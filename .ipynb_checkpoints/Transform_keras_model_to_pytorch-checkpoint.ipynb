{
 "cells": [
  {
   "cell_type": "code",
   "execution_count": null,
   "id": "10cb5766",
   "metadata": {},
   "outputs": [],
   "source": [
    "import numpy as np\n",
    "import os, shutil\n",
    "import time\n",
    "import matplotlib.pyplot as plt\n",
    "\n",
    "\n",
    "from keras.models import load_model\n",
    "\n",
    "\n",
    "import torch\n",
    "import torchvision\n",
    "import torch.nn as nn\n",
    "import torch.optim as optim\n",
    "from torchvision.datasets import ImageFolder\n",
    "import torchvision.transforms as transforms\n",
    "from torch.utils.data import DataLoader, Dataset"
   ]
  },
  {
   "cell_type": "code",
   "execution_count": null,
   "id": "96058444",
   "metadata": {},
   "outputs": [],
   "source": [
    "#Recreer un modele pytorch pour stocker notre modèle keras dedans\n",
    "\n",
    "def hidden_init(layer):\n",
    "    fan_in = layer.weight.data.size()[0]\n",
    "    lim = 1. / np.sqrt(fan_in)\n",
    "    return (-lim, lim)  \n",
    "\n",
    "class Actor(nn.Module):\n",
    "    \"\"\"Actor (Policy) Model.\"\"\"\n",
    "\n",
    "    def __init__(self, state_size, action_size, seed, h):\n",
    "        \"\"\"Initialize parameters and build model.\n",
    "        Params\n",
    "        ======\n",
    "            state_size (int): Dimension of each state\n",
    "            action_size (int): Dimension of each action\n",
    "            seed (int): Random seed\n",
    "            fc1_units (int): Number of nodes in first hidden layer\n",
    "            fc2_units (int): Number of nodes in second hidden layer\n",
    "        \"\"\"\n",
    "        super(Actor, self).__init__()\n",
    "        self.seed = torch.manual_seed(seed)\n",
    "        self.fc1 = nn.Linear(state_size, h)\n",
    "        self.fc2 = nn.Linear(h, h)\n",
    "        self.fc3 = nn.Linear(h, h)\n",
    "        self.fc4 = nn.Linear(h, h)\n",
    "        self.fc5 = nn.Linear(h, action_size)\n",
    "        self.reset_parameters()\n",
    "\n",
    "    def reset_parameters(self):\n",
    "        self.fc1.weight.data.uniform_(*hidden_init(self.fc1))\n",
    "        self.fc2.weight.data.uniform_(*hidden_init(self.fc2))\n",
    "        self.fc3.weight.data.uniform_(*hidden_init(self.fc3))\n",
    "        self.fc4.weight.data.uniform_(*hidden_init(self.fc4))\n",
    "        self.fc5.weight.data.uniform_(-3e-3, 3e-3)\n",
    "\n",
    "    def forward(self, state):\n",
    "        \"\"\"Build an actor (policy) network that maps states -> actions.\"\"\"\n",
    "        x = F.relu(self.fc1(state))\n",
    "        x = F.relu(self.fc2(x))\n",
    "        x = F.relu(self.fc3(x))\n",
    "        x = F.relu(self.fc4(x))\n",
    "\n",
    "        return F.tanh(self.fc5(x))\n",
    "\n",
    "net=Actor(1,1,time.time(),32)"
   ]
  },
  {
   "cell_type": "code",
   "execution_count": null,
   "id": "e110ece9",
   "metadata": {},
   "outputs": [],
   "source": [
    "#On charge le modele\n",
    "model = load_model('tomnod_everything_relu_Adam.h5')\n",
    "\n",
    "#On recupere ses poids\n",
    "weights=model.get_weights()\n",
    "\n",
    "#On transpose les poids dans le modèle pytorch\n",
    "net.fc1.weight.data=torch.from_numpy(np.transpose(weights[0]))\n",
    "net.fc1.bias.data=torch.from_numpy(weights[1])\n",
    "net.fc2.weight.data=torch.from_numpy(np.transpose(weights[2]))\n",
    "net.fc2.bias.data=torch.from_numpy(weights[3])\n",
    "net.fc3.weight.data=torch.from_numpy(np.transpose(weights[4]))\n",
    "net.fc3.bias.data=torch.from_numpy(weights[5])\n",
    "net.fc4.weight.data=torch.from_numpy(np.transpose(weights[6]))\n",
    "net.fc4.bias.data=torch.from_numpy(weights[7])\n",
    "net.fc5.weight.data=torch.from_numpy(np.transpose(weights[8]))\n",
    "net.fc5.bias.data=torch.from_numpy(weights[9])"
   ]
  },
  {
   "cell_type": "code",
   "execution_count": null,
   "id": "4d3b0f81",
   "metadata": {},
   "outputs": [],
   "source": [
    "#On enregistre le modèle\n",
    "torch.save(net.state_dict(), 'model_article.pth')"
   ]
  }
 ],
 "metadata": {
  "kernelspec": {
   "display_name": "Python 3 (ipykernel)",
   "language": "python",
   "name": "python3"
  },
  "language_info": {
   "codemirror_mode": {
    "name": "ipython",
    "version": 3
   },
   "file_extension": ".py",
   "mimetype": "text/x-python",
   "name": "python",
   "nbconvert_exporter": "python",
   "pygments_lexer": "ipython3",
   "version": "3.7.16"
  }
 },
 "nbformat": 4,
 "nbformat_minor": 5
}
