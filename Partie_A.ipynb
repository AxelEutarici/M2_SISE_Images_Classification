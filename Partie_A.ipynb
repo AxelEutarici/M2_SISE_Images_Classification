{
 "cells": [
  {
   "cell_type": "code",
   "execution_count": 2,
   "id": "fe9c9b7d",
   "metadata": {},
   "outputs": [
    {
     "name": "stderr",
     "output_type": "stream",
     "text": [
      "C:\\Users\\axele\\anaconda3\\envs\\MLDL\\lib\\site-packages\\tqdm\\auto.py:22: TqdmWarning: IProgress not found. Please update jupyter and ipywidgets. See https://ipywidgets.readthedocs.io/en/stable/user_install.html\n",
      "  from .autonotebook import tqdm as notebook_tqdm\n"
     ]
    }
   ],
   "source": [
    "import torch\n",
    "import torchvision\n",
    "import torch.nn as nn\n",
    "import torch.nn.functional as F"
   ]
  },
  {
   "cell_type": "code",
   "execution_count": 4,
   "id": "5d86ea74",
   "metadata": {},
   "outputs": [],
   "source": [
    "# Chargment du modèle pré-entraîné ResNet18\n",
    "model = torchvision.models.resnet18(pretrained=True)\n",
    "\n",
    "# Extraction des caractéristiques\n",
    "features = model.fc.in_features # nombre de caractéristiques en entrée de la couche fc\n",
    "model.fc = nn.Sequential() # Supprimer la couche fc\n",
    "\n",
    "# Ajout d'une regression logistique (j'avais pas d'idée on pourra changer après)\n",
    "class LogisticRegression(nn.Module):\n",
    "    def __init__(self, in_features, num_classes):\n",
    "        super(LogisticRegression, self).__init__()\n",
    "        self.fc = nn.Linear(in_features, num_classes)\n",
    "\n",
    "    def forward(self, x):\n",
    "        x = x.view(x.size(0), -1)\n",
    "        x = self.fc(x)\n",
    "        return x\n",
    "\n",
    "num_classes = 2\n",
    "logistic = LogisticRegression(features, num_classes)\n",
    "\n",
    "# Définir le modèle\n",
    "model = nn.Sequential(model, logistic)\n",
    "\n",
    "#Enchainer avec ta fonction pour entrainer et évaluer le modèle\n"
   ]
  }
 ],
 "metadata": {
  "kernelspec": {
   "display_name": "Python 3 (ipykernel)",
   "language": "python",
   "name": "python3"
  },
  "language_info": {
   "codemirror_mode": {
    "name": "ipython",
    "version": 3
   },
   "file_extension": ".py",
   "mimetype": "text/x-python",
   "name": "python",
   "nbconvert_exporter": "python",
   "pygments_lexer": "ipython3",
   "version": "3.9.16"
  }
 },
 "nbformat": 4,
 "nbformat_minor": 5
}
