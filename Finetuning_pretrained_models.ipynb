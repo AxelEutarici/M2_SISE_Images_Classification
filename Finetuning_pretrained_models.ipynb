{
 "cells": [
  {
   "cell_type": "code",
   "execution_count": 1,
   "id": "466d273f",
   "metadata": {},
   "outputs": [
    {
     "name": "stderr",
     "output_type": "stream",
     "text": [
      "C:\\Users\\axele\\anaconda3\\envs\\MLDL\\lib\\site-packages\\tqdm\\auto.py:22: TqdmWarning: IProgress not found. Please update jupyter and ipywidgets. See https://ipywidgets.readthedocs.io/en/stable/user_install.html\n",
      "  from .autonotebook import tqdm as notebook_tqdm\n"
     ]
    }
   ],
   "source": [
    "import numpy as np\n",
    "import os, shutil\n",
    "import time\n",
    "import matplotlib.pyplot as plt\n",
    "\n",
    "\n",
    "from keras.models import load_model\n",
    "\n",
    "\n",
    "import torch\n",
    "import torchvision\n",
    "import torch.nn as nn\n",
    "import torch.optim as optim\n",
    "from torchvision.datasets import ImageFolder\n",
    "import torchvision.transforms as transforms\n",
    "from torch.utils.data import DataLoader, Dataset"
   ]
  },
  {
   "cell_type": "markdown",
   "id": "5ac5dc66",
   "metadata": {},
   "source": [
    "## Preparation des données et fonction fit"
   ]
  },
  {
   "cell_type": "code",
   "execution_count": 2,
   "id": "232a9279",
   "metadata": {},
   "outputs": [
    {
     "name": "stdout",
     "output_type": "stream",
     "text": [
      "total training damage images:  5000\n",
      "total validation damage images:  1000\n",
      "total test damage images:  1000\n",
      "total training no damage images:  5000\n",
      "total validation no damage images:  1000\n",
      "total test no damage images:  1000\n"
     ]
    }
   ],
   "source": [
    "#Chargement du jeu de données\n",
    "original_dataset_dir = r'C:\\Users\\axele\\OneDrive\\Documents\\Projet_MLDL'\n",
    "\n",
    "train_damage_dir = original_dataset_dir + '/train_another/damage'\n",
    "validation_damage_dir = original_dataset_dir + '/validation_another/damage'\n",
    "test_damage_dir = original_dataset_dir + '/test/damage'\n",
    "\n",
    "train_nodamage_dir = original_dataset_dir + '/train_another/no_damage'\n",
    "validation_nodamage_dir = original_dataset_dir + '/validation_another/no_damage'\n",
    "test_nodamage_dir = original_dataset_dir + '/test/no_damage'\n",
    "\n",
    "print('total training damage images: ',len(os.listdir(train_damage_dir)))\n",
    "print('total validation damage images: ',len(os.listdir(validation_damage_dir)))\n",
    "print('total test damage images: ',len(os.listdir(test_damage_dir)))\n",
    "\n",
    "print('total training no damage images: ',len(os.listdir(train_nodamage_dir)))\n",
    "print('total validation no damage images: ',len(os.listdir(validation_nodamage_dir)))\n",
    "print('total test no damage images: ',len(os.listdir(test_nodamage_dir)))\n",
    "\n",
    "\n",
    "############################################################################################################\n",
    "\n",
    "#Definir la fonction de transformation\n",
    "transform = transforms.Compose([\n",
    "    transforms.Resize((150, 150)),\n",
    "    transforms.ToTensor(),\n",
    "    transforms.Normalize((0.5, 0.5, 0.5), (0.5, 0.5, 0.5))\n",
    "])\n",
    "\n",
    "# Définir le jeu de données d'entraînement\n",
    "train_dataset = ImageFolder(original_dataset_dir + '/train_another', transform=transform)\n",
    "\n",
    "# Définir le DataLoader pour les données d'entraînement\n",
    "train_loader = DataLoader(train_dataset, batch_size=20, shuffle=True)\n",
    "\n",
    "val_dataset = ImageFolder(original_dataset_dir + '/validation_another', transform=transform)\n",
    "val_loader = DataLoader(val_dataset, batch_size=20, shuffle=True)"
   ]
  },
  {
   "cell_type": "code",
   "execution_count": 3,
   "id": "98b0dee6",
   "metadata": {},
   "outputs": [],
   "source": [
    "# Boucle d'entraînement\n",
    "\n",
    "\n",
    "def train_model(optimizer, criterion, model, val_loader, train_loader):\n",
    "    train_losses = []\n",
    "    val_accuracies = []\n",
    "    val_losses = []\n",
    "    val_loss =0\n",
    "    train_loss = 0\n",
    "    elapsed_time = 0\n",
    "\n",
    "    for epoch in range(num_epochs):\n",
    "        start_time = time.time()\n",
    "        accuracy=0\n",
    "        running_loss = 0.0\n",
    "        for i, data in enumerate(train_loader, 0):\n",
    "            inputs, labels = data\n",
    "            optimizer.zero_grad()\n",
    "            outputs = model(inputs)\n",
    "            loss = criterion(outputs, labels)\n",
    "            loss.backward()\n",
    "            optimizer.step()\n",
    "            running_loss += loss.item()\n",
    "            accuracy += (torch.round(outputs) == labels.float().view(-1,1)).sum().item() / len(labels)\n",
    "\n",
    "            # Valider le modèle\n",
    "            if i % 100 == 99:  # tout 100 mini-batches\n",
    "                model.eval()\n",
    "                with torch.no_grad():\n",
    "                    correct = 0\n",
    "                    total = 0\n",
    "                    for data in val_loader:\n",
    "                        inputs, labels = data\n",
    "                        outputs = model(inputs)\n",
    "                        _, predicted = torch.max(outputs.data, 1)\n",
    "                        total += labels.size(0)\n",
    "                        correct += (predicted == labels).sum().item()\n",
    "                        val_accuracies.append(correct / total)\n",
    "                    print('Epoch %d mini-batch %5d validation accuracy: %.2f %%' % (\n",
    "                        epoch + 1, i + 1, 100 * correct / total))\n",
    "                model.train()\n",
    "\n",
    "        train_loss = running_loss / 100\n",
    "        train_losses.append(train_loss)\n",
    "        elapsed_time += time.time() - start_time\n",
    "        print('Epoch %d finished after %d seconds' % \n",
    "             (epoch + 1, elapsed_time))\n",
    "        print('[%d, %5d] loss: %.3f' %\n",
    "              (epoch + 1, i + 1, running_loss / (i + 1)))\n",
    "\n",
    "    print('Finished Training')\n",
    "    return train_losses, val_accuracies, val_losses"
   ]
  },
  {
   "cell_type": "markdown",
   "id": "3513176c",
   "metadata": {},
   "source": [
    "## Avec le modèle pré-entrainé resnet18\n"
   ]
  },
  {
   "cell_type": "code",
   "execution_count": 4,
   "id": "f4142c9e",
   "metadata": {},
   "outputs": [
    {
     "name": "stderr",
     "output_type": "stream",
     "text": [
      "C:\\Users\\axele\\anaconda3\\envs\\MLDL\\lib\\site-packages\\torchvision\\models\\_utils.py:223: UserWarning: Arguments other than a weight enum or `None` for 'weights' are deprecated since 0.13 and may be removed in the future. The current behavior is equivalent to passing `weights=ResNet18_Weights.IMAGENET1K_V1`. You can also use `weights=ResNet18_Weights.DEFAULT` to get the most up-to-date weights.\n",
      "  warnings.warn(msg)\n"
     ]
    }
   ],
   "source": [
    "# Charger un modèle pré-entraîné (ici ResNet18)\n",
    "model1 = torchvision.models.resnet18(weights=True)\n",
    "\n",
    "# Définir la dernière couche en fonction du nombre de classes\n",
    "num_classes = 2 \n",
    "model1.fc = nn.Linear(512, num_classes)\n",
    "\n",
    "# Définir les paramètres à optimiser\n",
    "params_to_update = []\n",
    "for name, param in model1.named_parameters():\n",
    "    if param.requires_grad == True:\n",
    "        params_to_update.append(param)\n",
    "        \n",
    "# Configurer l'optimiseur \n",
    "optimizer1 = optim.Adam(params_to_update, lr=0.001)\n",
    "optimizer2 = optim.RMSprop(params_to_update, lr=0.001)\n",
    "\n",
    "\n",
    "# Définir la fonction de perte (cross-entropy)\n",
    "criterion = nn.CrossEntropyLoss()\n",
    "\n",
    "# Définir le nombre d'épochs\n",
    "num_epochs = 15"
   ]
  },
  {
   "cell_type": "code",
   "execution_count": 5,
   "id": "46357ae0",
   "metadata": {},
   "outputs": [
    {
     "name": "stdout",
     "output_type": "stream",
     "text": [
      "Epoch 1 mini-batch   100 validation accuracy: 92.10 %\n",
      "Epoch 1 mini-batch   200 validation accuracy: 95.30 %\n",
      "Epoch 1 mini-batch   300 validation accuracy: 95.35 %\n",
      "Epoch 1 mini-batch   400 validation accuracy: 93.00 %\n",
      "Epoch 1 mini-batch   500 validation accuracy: 94.25 %\n",
      "Epoch 1 finished after 353 seconds\n",
      "[1,   500] loss: 0.164\n",
      "Epoch 2 mini-batch   100 validation accuracy: 89.85 %\n",
      "Epoch 2 mini-batch   200 validation accuracy: 96.80 %\n",
      "Epoch 2 mini-batch   300 validation accuracy: 96.70 %\n",
      "Epoch 2 mini-batch   400 validation accuracy: 97.40 %\n",
      "Epoch 2 mini-batch   500 validation accuracy: 95.05 %\n",
      "Epoch 2 finished after 708 seconds\n",
      "[2,   500] loss: 0.098\n",
      "Epoch 3 mini-batch   100 validation accuracy: 98.30 %\n",
      "Epoch 3 mini-batch   200 validation accuracy: 85.55 %\n",
      "Epoch 3 mini-batch   300 validation accuracy: 97.00 %\n",
      "Epoch 3 mini-batch   400 validation accuracy: 96.85 %\n",
      "Epoch 3 mini-batch   500 validation accuracy: 97.50 %\n",
      "Epoch 3 finished after 1087 seconds\n",
      "[3,   500] loss: 0.070\n",
      "Epoch 4 mini-batch   100 validation accuracy: 54.20 %\n",
      "Epoch 4 mini-batch   200 validation accuracy: 96.35 %\n",
      "Epoch 4 mini-batch   300 validation accuracy: 76.95 %\n",
      "Epoch 4 mini-batch   400 validation accuracy: 69.20 %\n",
      "Epoch 4 mini-batch   500 validation accuracy: 97.70 %\n",
      "Epoch 4 finished after 1467 seconds\n",
      "[4,   500] loss: 0.054\n",
      "Epoch 5 mini-batch   100 validation accuracy: 82.15 %\n",
      "Epoch 5 mini-batch   200 validation accuracy: 73.10 %\n",
      "Epoch 5 mini-batch   300 validation accuracy: 95.05 %\n",
      "Epoch 5 mini-batch   400 validation accuracy: 95.95 %\n",
      "Epoch 5 mini-batch   500 validation accuracy: 83.85 %\n",
      "Epoch 5 finished after 1846 seconds\n",
      "[5,   500] loss: 0.053\n",
      "Epoch 6 mini-batch   100 validation accuracy: 97.75 %\n",
      "Epoch 6 mini-batch   200 validation accuracy: 97.50 %\n",
      "Epoch 6 mini-batch   300 validation accuracy: 97.30 %\n",
      "Epoch 6 mini-batch   400 validation accuracy: 97.80 %\n",
      "Epoch 6 mini-batch   500 validation accuracy: 98.20 %\n",
      "Epoch 6 finished after 2225 seconds\n",
      "[6,   500] loss: 0.049\n",
      "Epoch 7 mini-batch   100 validation accuracy: 98.55 %\n",
      "Epoch 7 mini-batch   200 validation accuracy: 98.25 %\n",
      "Epoch 7 mini-batch   300 validation accuracy: 53.35 %\n",
      "Epoch 7 mini-batch   400 validation accuracy: 98.40 %\n",
      "Epoch 7 mini-batch   500 validation accuracy: 98.60 %\n",
      "Epoch 7 finished after 2593 seconds\n",
      "[7,   500] loss: 0.038\n",
      "Epoch 8 mini-batch   100 validation accuracy: 95.70 %\n",
      "Epoch 8 mini-batch   200 validation accuracy: 97.20 %\n",
      "Epoch 8 mini-batch   300 validation accuracy: 89.95 %\n",
      "Epoch 8 mini-batch   400 validation accuracy: 98.65 %\n",
      "Epoch 8 mini-batch   500 validation accuracy: 98.15 %\n",
      "Epoch 8 finished after 2947 seconds\n",
      "[8,   500] loss: 0.043\n",
      "Epoch 9 mini-batch   100 validation accuracy: 96.85 %\n",
      "Epoch 9 mini-batch   200 validation accuracy: 97.15 %\n",
      "Epoch 9 mini-batch   300 validation accuracy: 98.30 %\n",
      "Epoch 9 mini-batch   400 validation accuracy: 98.00 %\n",
      "Epoch 9 mini-batch   500 validation accuracy: 98.25 %\n",
      "Epoch 9 finished after 3301 seconds\n",
      "[9,   500] loss: 0.032\n",
      "Epoch 10 mini-batch   100 validation accuracy: 98.35 %\n",
      "Epoch 10 mini-batch   200 validation accuracy: 97.85 %\n",
      "Epoch 10 mini-batch   300 validation accuracy: 79.50 %\n",
      "Epoch 10 mini-batch   400 validation accuracy: 90.25 %\n",
      "Epoch 10 mini-batch   500 validation accuracy: 97.75 %\n",
      "Epoch 10 finished after 3654 seconds\n",
      "[10,   500] loss: 0.038\n",
      "Epoch 11 mini-batch   100 validation accuracy: 98.50 %\n",
      "Epoch 11 mini-batch   200 validation accuracy: 98.35 %\n",
      "Epoch 11 mini-batch   300 validation accuracy: 98.55 %\n",
      "Epoch 11 mini-batch   400 validation accuracy: 79.05 %\n",
      "Epoch 11 mini-batch   500 validation accuracy: 98.60 %\n",
      "Epoch 11 finished after 4011 seconds\n",
      "[11,   500] loss: 0.025\n",
      "Epoch 12 mini-batch   100 validation accuracy: 98.45 %\n",
      "Epoch 12 mini-batch   200 validation accuracy: 98.20 %\n",
      "Epoch 12 mini-batch   300 validation accuracy: 97.95 %\n",
      "Epoch 12 mini-batch   400 validation accuracy: 95.80 %\n",
      "Epoch 12 mini-batch   500 validation accuracy: 97.05 %\n",
      "Epoch 12 finished after 4367 seconds\n",
      "[12,   500] loss: 0.023\n",
      "Epoch 13 mini-batch   100 validation accuracy: 97.75 %\n",
      "Epoch 13 mini-batch   200 validation accuracy: 98.05 %\n",
      "Epoch 13 mini-batch   300 validation accuracy: 98.60 %\n",
      "Epoch 13 mini-batch   400 validation accuracy: 98.15 %\n",
      "Epoch 13 mini-batch   500 validation accuracy: 82.05 %\n",
      "Epoch 13 finished after 4722 seconds\n",
      "[13,   500] loss: 0.018\n",
      "Epoch 14 mini-batch   100 validation accuracy: 98.60 %\n",
      "Epoch 14 mini-batch   200 validation accuracy: 97.05 %\n",
      "Epoch 14 mini-batch   300 validation accuracy: 98.30 %\n",
      "Epoch 14 mini-batch   400 validation accuracy: 98.35 %\n",
      "Epoch 14 mini-batch   500 validation accuracy: 98.35 %\n",
      "Epoch 14 finished after 5076 seconds\n",
      "[14,   500] loss: 0.022\n",
      "Epoch 15 mini-batch   100 validation accuracy: 98.60 %\n",
      "Epoch 15 mini-batch   200 validation accuracy: 98.65 %\n",
      "Epoch 15 mini-batch   300 validation accuracy: 98.55 %\n",
      "Epoch 15 mini-batch   400 validation accuracy: 95.20 %\n",
      "Epoch 15 mini-batch   500 validation accuracy: 98.20 %\n",
      "Epoch 15 finished after 5432 seconds\n",
      "[15,   500] loss: 0.015\n",
      "Epoch 16 mini-batch   100 validation accuracy: 96.35 %\n",
      "Epoch 16 mini-batch   200 validation accuracy: 98.70 %\n",
      "Epoch 16 mini-batch   300 validation accuracy: 98.35 %\n",
      "Epoch 16 mini-batch   400 validation accuracy: 98.70 %\n",
      "Epoch 16 mini-batch   500 validation accuracy: 98.10 %\n",
      "Epoch 16 finished after 5786 seconds\n",
      "[16,   500] loss: 0.026\n",
      "Epoch 17 mini-batch   100 validation accuracy: 98.15 %\n",
      "Epoch 17 mini-batch   200 validation accuracy: 98.40 %\n",
      "Epoch 17 mini-batch   300 validation accuracy: 95.00 %\n",
      "Epoch 17 mini-batch   400 validation accuracy: 93.30 %\n",
      "Epoch 17 mini-batch   500 validation accuracy: 97.15 %\n",
      "Epoch 17 finished after 6140 seconds\n",
      "[17,   500] loss: 0.021\n",
      "Epoch 18 mini-batch   100 validation accuracy: 98.70 %\n",
      "Epoch 18 mini-batch   200 validation accuracy: 62.35 %\n",
      "Epoch 18 mini-batch   300 validation accuracy: 96.25 %\n",
      "Epoch 18 mini-batch   400 validation accuracy: 98.55 %\n",
      "Epoch 18 mini-batch   500 validation accuracy: 97.75 %\n",
      "Epoch 18 finished after 6494 seconds\n",
      "[18,   500] loss: 0.014\n",
      "Epoch 19 mini-batch   100 validation accuracy: 98.40 %\n",
      "Epoch 19 mini-batch   200 validation accuracy: 98.45 %\n",
      "Epoch 19 mini-batch   300 validation accuracy: 95.65 %\n",
      "Epoch 19 mini-batch   400 validation accuracy: 98.00 %\n",
      "Epoch 19 mini-batch   500 validation accuracy: 98.05 %\n",
      "Epoch 19 finished after 6847 seconds\n",
      "[19,   500] loss: 0.014\n",
      "Epoch 20 mini-batch   100 validation accuracy: 97.65 %\n",
      "Epoch 20 mini-batch   200 validation accuracy: 98.35 %\n",
      "Epoch 20 mini-batch   300 validation accuracy: 98.50 %\n",
      "Epoch 20 mini-batch   400 validation accuracy: 97.85 %\n",
      "Epoch 20 mini-batch   500 validation accuracy: 96.35 %\n",
      "Epoch 20 finished after 7201 seconds\n",
      "[20,   500] loss: 0.029\n",
      "Finished Training\n"
     ]
    }
   ],
   "source": [
    "#Resnet18 avec l'optimizer Adam\n",
    "train_losses1, val_accuracies1, val_losses1 = train_model(optimizer1, criterion, model1, val_loader, train_loader)"
   ]
  },
  {
   "cell_type": "code",
   "execution_count": 6,
   "id": "68d9203d",
   "metadata": {},
   "outputs": [
    {
     "data": {
      "image/png": "[encoded data removed]",
      "text/plain": [
       "<Figure size 640x480 with 1 Axes>"
      ]
     },
     "metadata": {},
     "output_type": "display_data"
    },
    {
     "data": {
      "image/png": "[encoded data removed]",
      "text/plain": [
       "<Figure size 640x480 with 1 Axes>"
      ]
     },
     "metadata": {},
     "output_type": "display_data"
    }
   ],
   "source": [
    "plt.plot(train_losses1, label='Training Loss')\n",
    "plt.legend()\n",
    "plt.show()\n",
    "\n",
    "plt.plot(val_accuracies1, label='Validation Accuracy')\n",
    "plt.legend()\n",
    "plt.show()"
   ]
  },
  {
   "cell_type": "code",
   "execution_count": null,
   "id": "39945781",
   "metadata": {},
   "outputs": [],
   "source": [
    "#Resnet18 avec l'optimizer RMSprop\n",
    "train_losses2, val_accuracies2, val_losses2 = train_model(optimizer2, criterion, model1, val_loader, train_loader)"
   ]
  },
  {
   "cell_type": "code",
   "execution_count": null,
   "id": "f143578b",
   "metadata": {},
   "outputs": [],
   "source": [
    "plt.plot(train_losses2, label='Training Loss')\n",
    "plt.legend()\n",
    "plt.show()\n",
    "\n",
    "plt.plot(val_accuracies2, label='Validation Accuracy')\n",
    "plt.legend()\n",
    "plt.show()"
   ]
  },
  {
   "cell_type": "markdown",
   "id": "0dcd217f",
   "metadata": {},
   "source": [
    " ### Modification de plusieurs couches de ResNet18\n",
    " "
   ]
  },
  {
   "cell_type": "code",
   "execution_count": 7,
   "id": "50685f6a",
   "metadata": {},
   "outputs": [],
   "source": [
    "num_features = model1.fc.in_features\n",
    "model1.fc = nn.Linear(num_features, num_classes)\n",
    "\n",
    "hidden_size=256\n",
    "model1.add_module(\"fc1\", nn.Linear(num_features, hidden_size))\n",
    "model1.add_module(\"relu1\", nn.ReLU())\n",
    "model1.add_module(\"fc2\", nn.Linear(hidden_size, num_classes))\n"
   ]
  },
  {
   "cell_type": "code",
   "execution_count": null,
   "id": "d5a13ab1",
   "metadata": {},
   "outputs": [],
   "source": [
    "#Resnet18  modifié avec l'optimizer Adam\n",
    "train_losses1b, val_accuracies1b, val_losses1b = train_model(optimizer1, criterion, model1, val_loader, train_loader)"
   ]
  },
  {
   "cell_type": "code",
   "execution_count": null,
   "id": "47d04592",
   "metadata": {},
   "outputs": [],
   "source": [
    "plt.plot(train_losses1b, label='Training Loss')\n",
    "plt.legend()\n",
    "plt.show()\n",
    "\n",
    "plt.plot(val_accuracies1b, label='Validation Accuracy')\n",
    "plt.legend()\n",
    "plt.show()"
   ]
  },
  {
   "cell_type": "markdown",
   "id": "daffa0f0",
   "metadata": {},
   "source": [
    "## Avec le modèle pré-entrainé Inception_v3"
   ]
  },
  {
   "cell_type": "code",
   "execution_count": null,
   "id": "8174d81b",
   "metadata": {},
   "outputs": [],
   "source": [
    "# Charger le modèle pré-entraîné \n",
    "model2 = torchvision.models.inception3(weights=True)\n",
    "\n",
    "# Définir la dernière couche en fonction du nombre de classes\n",
    "num_classes = 2 \n",
    "model.fc = nn.Linear(2048, num_classes)\n",
    "\n",
    "# Définir les paramètres à optimiser\n",
    "params_to_update = []\n",
    "for name, param in model1.named_parameters():\n",
    "    if param.requires_grad == True:\n",
    "        params_to_update.append(param)\n",
    "        \n",
    "# Configurer l'optimiseur \n",
    "optimizer1 = optim.Adam(params_to_update, lr=0.001)\n",
    "optimizer2 = optim.RMSprop(params_to_update, lr=0.001)\n",
    "\n",
    "# Définir la fonction de perte (cross-entropy)\n",
    "criterion = nn.CrossEntropyLoss()\n",
    "\n",
    "# Définir le nombre d'épochs\n",
    "num_epochs = 15"
   ]
  },
  {
   "cell_type": "code",
   "execution_count": null,
   "id": "33a0010f",
   "metadata": {},
   "outputs": [],
   "source": [
    "#Inception_v3 avec l'optimizer Adam\n",
    "train_losses3, val_accuracies3, val_losses3 = train_model(optimizer1, criterion, model2, val_loader, train_loader)"
   ]
  },
  {
   "cell_type": "code",
   "execution_count": null,
   "id": "09495b8f",
   "metadata": {},
   "outputs": [],
   "source": [
    "plt.plot(train_losses3, label='Training Loss')\n",
    "plt.legend()\n",
    "plt.show()\n",
    "\n",
    "plt.plot(val_accuracies3, label='Validation Accuracy')\n",
    "plt.legend()\n",
    "plt.show()"
   ]
  },
  {
   "cell_type": "markdown",
   "id": "11cfd514",
   "metadata": {},
   "source": [
    "## Avec le modèle pré-entrainé VGG16"
   ]
  },
  {
   "cell_type": "code",
   "execution_count": null,
   "id": "0a9a4723",
   "metadata": {},
   "outputs": [],
   "source": [
    "# Charger le modèle pré-entraîné \n",
    "model3 = torchvision.models.VGG16(weights=True)\n",
    "\n",
    "# Définir la dernière couche en fonction du nombre de classes\n",
    "num_classes = 2 \n",
    "model3.classifier[6] = nn.Linear(4096, num_classes)\n",
    "\n",
    "# Définir les paramètres à optimiser\n",
    "params_to_update = []\n",
    "for name, param in model1.named_parameters():\n",
    "    if param.requires_grad == True:\n",
    "        params_to_update.append(param)\n",
    "        \n",
    "# Configurer l'optimiseur \n",
    "optimizer1 = optim.Adam(params_to_update, lr=0.001)\n",
    "optimizer2 = optim.RMSprop(params_to_update, lr=0.001)\n",
    "\n",
    "# Définir la fonction de perte (cross-entropy)\n",
    "criterion = nn.CrossEntropyLoss()\n",
    "\n",
    "# Définir le nombre d'épochs\n",
    "num_epochs = 15"
   ]
  },
  {
   "cell_type": "code",
   "execution_count": null,
   "id": "a06281ba",
   "metadata": {},
   "outputs": [],
   "source": [
    "#VGG16 avec l'optimizer Adam\n",
    "train_losses4, val_accuracies4, val_losses4 = train_model(optimizer1, criterion, model3, val_loader, train_loader)"
   ]
  }
 ],
 "metadata": {
  "kernelspec": {
   "display_name": "Python 3 (ipykernel)",
   "language": "python",
   "name": "python3"
  },
  "language_info": {
   "codemirror_mode": {
    "name": "ipython",
    "version": 3
   },
   "file_extension": ".py",
   "mimetype": "text/x-python",
   "name": "python",
   "nbconvert_exporter": "python",
   "pygments_lexer": "ipython3",
   "version": "3.9.16"
  }
 },
 "nbformat": 4,
 "nbformat_minor": 5
}
